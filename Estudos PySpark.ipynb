{
 "cells": [
  {
   "cell_type": "markdown",
   "id": "931c5fbb",
   "metadata": {},
   "source": [
    "# Reading Data\n",
    "\n",
    "Pode-se utilizar o Pandas com o PandasAPI para converter para o PySpark, mas também pode utilizar diretamente o Spark para fazer a leitura de dados."
   ]
  },
  {
   "cell_type": "code",
   "execution_count": null,
   "id": "1461b18c",
   "metadata": {},
   "outputs": [],
   "source": [
    "# Exemplo com o Pandas\n",
    "\n",
    "import pandas as pd\n",
    "from pyspark.sql import SparkSession\n",
    "\n",
    "arquivo = \"brasil/states.csv\"\n",
    "df = pd.read_csv(arquivo)\n",
    "\n",
    "spark = SparkSession.builder.getOrCreate()\n",
    "\n",
    "dataframe = spark.createDataFrame(df)\n",
    "\n",
    "print(df.columns)"
   ]
  },
  {
   "cell_type": "code",
   "execution_count": null,
   "id": "2a9f69ba",
   "metadata": {},
   "outputs": [],
   "source": [
    "# Exemplo com o PySpark\n",
    "\n",
    "csv_file = 'data/stocks_price_final.csv'\n",
    "df = spark.read.csv(csv_file)\n",
    "\n",
    "# Reading JSON file\n",
    "\n",
    "json_file = 'data/stocks_price_final.json'\n",
    "data = spark.read.json(json_file)\n"
   ]
  },
  {
   "cell_type": "markdown",
   "id": "24c79509",
   "metadata": {},
   "source": [
    "## Visualização dos Data Frames \n",
    "\n",
    "Algumas funções para visualizar coisas do dataframe\n",
    "\n",
    "<b>data.printSchema ou data.schema</b>\n",
    "\n",
    "Printar o schema dos dados, informando o tipo, nome e etc (pode conter alguns bugs)\n",
    "\n",
    "<b>data.dtypes</b>\n",
    "\n",
    "Informa os tipos de cada variável\n",
    "\n",
    "<b>data.head(n)</b>\n",
    "\n",
    "Para retornar as primeiras N linhas como uma lista, o head dos dataframes\n",
    "\n",
    "<b>data.show(n)</b>\n",
    "\n",
    "Retorna os primeiros 20 por default, ou os primeiros N\n",
    "\n",
    "<b>data.first()</b>\n",
    "\n",
    "Retorna a primeira linha\n",
    "\n",
    "<b>data.describe()</b>\n",
    "\n",
    "Summary do R, vai retornar coisas como a média, desvio padrão, minimo e maximo\n",
    "\n",
    "<b>data.columns</b>\n",
    "\n",
    "Retorna a lista de coluna\n",
    "\n",
    "<b>data.distinct</b>\n",
    "\n",
    "Retorna a quantidade de linhas diferentes\n",
    "\n"
   ]
  },
  {
   "cell_type": "markdown",
   "id": "fb88ebc4",
   "metadata": {},
   "source": [
    "# Manipulando o Dataframe\n",
    "\n",
    "<b> data.withColumn(\"novaColuna\",dadosNova) </b>\n",
    "\n",
    "Para se adicionar novas colunas no DF\n",
    "\n",
    "<b>data.withColumnRenamed('antigo','novo')</b>\n",
    "\n",
    "Vai trocar o nome da coluna antiga por um novo\n",
    "\n",
    "<b>data.drop('nome')</b>\n",
    "\n",
    "Vai deletar a coluna espeficada\n",
    "\n",
    "<b>data.na.replace(old_value, new_vallue)</b>\n",
    "\n",
    "Troca valores por novos valores\n"
   ]
  },
  {
   "cell_type": "markdown",
   "id": "09d66746",
   "metadata": {},
   "source": [
    "### Missing Values\n",
    "\n",
    "Variações: NaN, espaços em brancos, placeholder (#NULO#) e etc\n",
    "\n",
    "Algumas opções:\n",
    "\n",
    "<ul>\n",
    "    <li>Remover os campos</li>\n",
    "    <li>Predizer de acordo com a media</li>\n",
    "    <li>Predizer com os valores mais frequentes</li>\n",
    "    <li>Predizer por meio de KNN</li>\n",
    "</ul>\n",
    "\n",
    "    "
   ]
  },
  {
   "cell_type": "code",
   "execution_count": null,
   "id": "cb0eb28b",
   "metadata": {},
   "outputs": [],
   "source": [
    "# Remove Rows with Missing Values\n",
    "\n",
    "data.na.drop()\n",
    "\n",
    "# Replacing Missing Values with Mean\n",
    "\n",
    "data.na.fill(data.select(f.mean(data['open'])).collect()[0][0])\n",
    "\n",
    "# Replacing Missing Values with new values\n",
    "\n",
    "data.na.replace(old_value, new_vallue)"
   ]
  },
  {
   "cell_type": "markdown",
   "id": "619daf32",
   "metadata": {},
   "source": [
    "# Querying Data\n",
    "\n",
    "__Select -> data.select('single') or ([list])__\n",
    "\n",
    "O select normal, onde vai retornar os campos selecionados\n",
    "\n"
   ]
  },
  {
   "cell_type": "code",
   "execution_count": null,
   "id": "9d5ac27f",
   "metadata": {},
   "outputs": [],
   "source": [
    "## Selecting Single Column\n",
    "\n",
    "data.select('sector').show(5)\n",
    "\n",
    "## Selecting Multiple columns\n",
    "\n",
    "data.select(['open', 'close', 'adjusted']).show(5)"
   ]
  },
  {
   "cell_type": "markdown",
   "id": "b666c27a",
   "metadata": {},
   "source": [
    "__Filter -> data.filter(parametros)__\n",
    "\n",
    "Filtro dos dados, podendo usar operacionais como ~ (NOT), & (AND) e | (or)\n"
   ]
  },
  {
   "cell_type": "code",
   "execution_count": null,
   "id": "e3d64974",
   "metadata": {},
   "outputs": [],
   "source": [
    "from pyspark.sql.functions import col, lit\n",
    "\n",
    "data.filter( (col('data') >= lit('2020-01-01')) & (col('data') <= lit('2020-01-31')) ).show(5)\n",
    "\n",
    "# Filter com a condição de que MatchID do dataframe Fifa_DF seja == 1096\n",
    "fifa_df.filter(fifa_df.MatchID=='1096').show() \n",
    "\n",
    "# FIlter com multiplos parametros\n",
    "\n",
    "fifa_df.filter((fifa_df.Position=='C') && (fifa_df.Event==\"G40'\")).show()"
   ]
  },
  {
   "cell_type": "markdown",
   "id": "4b08888d",
   "metadata": {},
   "source": [
    "__Between -> data.between__\n",
    "\n",
    "Retorna True ou False se os valores estiverem entre os parametros, e também retorna os valores se usado dentro de um Filter."
   ]
  },
  {
   "cell_type": "code",
   "execution_count": null,
   "id": "181d2738",
   "metadata": {},
   "outputs": [],
   "source": [
    "## fetch the data where the adjusted value is between 100.0 and 500.0\n",
    "\n",
    "data.filter(data.adjusted.between(100.0, 500.0)).show()"
   ]
  },
  {
   "cell_type": "markdown",
   "id": "f2ebbe18",
   "metadata": {},
   "source": [
    "__When -> f.when()__\n",
    "\n",
    "returna 0 ou 1 dependendo da condição.\n",
    "\n",
    "# Pesquisar mais sobre isso aqui que tá estranho"
   ]
  },
  {
   "cell_type": "code",
   "execution_count": null,
   "id": "b890d648",
   "metadata": {},
   "outputs": [],
   "source": [
    "data.select('open', 'close', \n",
    "            f.when(data.adjusted >= 200.0, 1).otherwise(0)\n",
    "           ).show(5)"
   ]
  }
 ],
 "metadata": {
  "kernelspec": {
   "display_name": "Python 3 (ipykernel)",
   "language": "python",
   "name": "python3"
  },
  "language_info": {
   "codemirror_mode": {
    "name": "ipython",
    "version": 3
   },
   "file_extension": ".py",
   "mimetype": "text/x-python",
   "name": "python",
   "nbconvert_exporter": "python",
   "pygments_lexer": "ipython3",
   "version": "3.8.10"
  }
 },
 "nbformat": 4,
 "nbformat_minor": 5
}
