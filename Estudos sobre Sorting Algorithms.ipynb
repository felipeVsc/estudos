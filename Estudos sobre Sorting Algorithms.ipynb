{
 "cells": [
  {
   "cell_type": "markdown",
   "id": "b28247ee",
   "metadata": {},
   "source": [
    "## Bubblesort\n",
    "\n",
    "Simplesmente ficar analisando se o próximo numero é maior ou menor, se for maior, troca a posição.\n",
    "\n",
    "Vai jogando os numeros maiores para o final do array.\n",
    "\n",
    "o len(array)-x-1 é porque o maior numero já está ordenado no final, logo, não precisa contar ele."
   ]
  },
  {
   "cell_type": "code",
   "execution_count": 6,
   "id": "d39b9a46",
   "metadata": {},
   "outputs": [
    {
     "name": "stdout",
     "output_type": "stream",
     "text": [
      "[3, 5, 8, 9]\n"
     ]
    }
   ],
   "source": [
    "def bubbleSort(array):\n",
    "    ordenador = True\n",
    "    \n",
    "    for x in range(len(array)):\n",
    "        for y in range(len(array)-x-1):\n",
    "            if(array[y]>array[y+1]):\n",
    "                \n",
    "                auxiliar = array[y+1]\n",
    "                array[y+1] = array[y]\n",
    "                array[y] = auxiliar\n",
    "            \n",
    "                ordenador = False\n",
    "            \n",
    "        if ordenador:\n",
    "            break\n",
    "            \n",
    "    return array\n",
    "    \n",
    "array = [8,9,3,5]\n",
    "print(bubbleSort(array))\n",
    "\n",
    "            "
   ]
  },
  {
   "cell_type": "markdown",
   "id": "20fdef61",
   "metadata": {},
   "source": [
    "## InsertionSort\n",
    "\n",
    "Vai pegando cada elemento e procurando qual que é a posição dele entre todos, em vez de ir um passo de cada vez igual o BubbleSort, ele vai procurando toda a array pra saber onde que ele deve ficar.\n",
    "\n",
    "Começa fazendo o sorting pelos elementos 0 e 1, e depois vai indo pro 2 e vendo onde ele fica do lado esquerdo, depois vai pro 3 e vê onde ele fica do lado esquerdo."
   ]
  },
  {
   "cell_type": "code",
   "execution_count": 9,
   "id": "91618bfc",
   "metadata": {},
   "outputs": [
    {
     "name": "stdout",
     "output_type": "stream",
     "text": [
      "[3, 5, 8, 9]\n"
     ]
    }
   ],
   "source": [
    "def insertionSort(array):\n",
    "    for x in range(1,len(array)):\n",
    "        j = x-1 # aqui vai ser o elemento 0\n",
    "        proxElemento = array[x] # esse daqui vai ser o da posicao 1\n",
    "        while array[j]>proxElemento and j>=0: # o da posição 0 é maior?\n",
    "            array[j+1] = array[j] #se for, entao troca a posicao\n",
    "            j-=1\n",
    "        array[j+1] = proxElemento\n",
    "    \n",
    "    return array\n",
    "        \n",
    "array = [8,9,3,5]\n",
    "print(insertionSort(array))"
   ]
  },
  {
   "cell_type": "markdown",
   "id": "f729f2b2",
   "metadata": {},
   "source": [
    "## MergeSort\n",
    "\n",
    "Divide and Conquer approach / Recursivo\n",
    "\n",
    "Vai dividindo o array em metades e vai ordenando cada uma\n",
    "\n",
    "[8,9,3,5]\n",
    "\n",
    "\n"
   ]
  },
  {
   "cell_type": "code",
   "execution_count": null,
   "id": "8171c0fe",
   "metadata": {},
   "outputs": [],
   "source": [
    "def mergeSort(array):\n",
    "    "
   ]
  }
 ],
 "metadata": {
  "kernelspec": {
   "display_name": "Python 3.8.10 64-bit",
   "language": "python",
   "name": "python3810jvsc74a57bd0916dbcbb3f70747c44a77c7bcd40155683ae19c65e1c03b4aa3499c5328201f1"
  },
  "language_info": {
   "codemirror_mode": {
    "name": "ipython",
    "version": 3
   },
   "file_extension": ".py",
   "mimetype": "text/x-python",
   "name": "python",
   "nbconvert_exporter": "python",
   "pygments_lexer": "ipython3",
   "version": "3.8.10"
  }
 },
 "nbformat": 4,
 "nbformat_minor": 5
}
