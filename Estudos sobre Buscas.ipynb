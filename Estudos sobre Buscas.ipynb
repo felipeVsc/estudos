{
 "cells": [
  {
   "cell_type": "markdown",
   "id": "64df1b0c",
   "metadata": {},
   "source": [
    "## Busca Binária\n",
    "\n",
    "Busca por meio de \"corte\" na metade do array, de modo que vai cortando pela metade até achar onde que está. \n",
    "Melhor do que sair de um por um elemento do array.\n",
    "\n",
    "O(log n)"
   ]
  },
  {
   "cell_type": "code",
   "execution_count": 4,
   "id": "6bda2efd",
   "metadata": {},
   "outputs": [
    {
     "name": "stdout",
     "output_type": "stream",
     "text": [
      "4\n"
     ]
    }
   ],
   "source": [
    "def buscaBinaria(array, esquerda,direita,item):\n",
    "    if direita<esquerda:\n",
    "        return -1\n",
    "    meio = (direita+esquerda) // 2\n",
    "    \n",
    "    if array[meio] == item:\n",
    "        return meio\n",
    "    elif array[meio] > item:\n",
    "        return buscaBinaria(array,esquerda,meio-1,item) # Atualiza os limites para pegar apenas a metade que tem\n",
    "    else:\n",
    "        return buscaBinaria(array,meio+1,direita,item) # Atualiza os limites para pegar apenas a metade que tem\n",
    "    \n",
    "array = [1,3,5,7,9]\n",
    "\n",
    "print(buscaBinaria(array,0,len(array)-1,9))\n",
    "    "
   ]
  },
  {
   "cell_type": "markdown",
   "id": "d108d1c6",
   "metadata": {},
   "source": [
    "## Busca em Profundidade (DFS)\n",
    "\n"
   ]
  }
 ],
 "metadata": {
  "kernelspec": {
   "display_name": "Python 3 (ipykernel)",
   "language": "python",
   "name": "python3"
  },
  "language_info": {
   "codemirror_mode": {
    "name": "ipython",
    "version": 3
   },
   "file_extension": ".py",
   "mimetype": "text/x-python",
   "name": "python",
   "nbconvert_exporter": "python",
   "pygments_lexer": "ipython3",
   "version": "3.8.10"
  }
 },
 "nbformat": 4,
 "nbformat_minor": 5
}
