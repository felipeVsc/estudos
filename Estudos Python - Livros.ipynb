{
 "cells": [
  {
   "cell_type": "markdown",
   "id": "1ec39914",
   "metadata": {},
   "source": [
    "## Namedtuples\n",
    "\n",
    "Para quando quiser criar uma tupla que tenha facilmente a identificação dos campos, além de DOT NOTATION tipo user.nome.\n",
    "\n",
    "Primeiro declara como que vai ser o objeto e depois só fazer a criação de cada instância\n",
    "\n",
    "É bom de se utilizar para criar tipo um banco de dados.\n",
    "\n",
    "Porém, é __imutável.__\n",
    "\n",
    "Argumentos opcionais:\n",
    "\n",
    "__default__ => Para dizer valores defaults, pode ser para definir um padrão para nulo, tipo \"#NULO#\"\n"
   ]
  },
  {
   "cell_type": "code",
   "execution_count": 10,
   "id": "d2a07b60",
   "metadata": {},
   "outputs": [
    {
     "data": {
      "text/plain": [
       "'masculino'"
      ]
     },
     "execution_count": 10,
     "metadata": {},
     "output_type": "execute_result"
    }
   ],
   "source": [
    "from collections import namedtuple\n",
    "\n",
    "campos = ['nome','idade','sexo']\n",
    "\n",
    "Usuario = namedtuple(\"Usuario\",(campo for campo in campos))\n",
    "\n",
    "# ou \n",
    "\n",
    "Usuario = namedtuple(\"Usuario\",'nome idade sexo')\n",
    "\n",
    "\n",
    "user = Usuario(\"felipe\",12,\"masculino\")\n",
    "user.sexo"
   ]
  },
  {
   "cell_type": "markdown",
   "id": "a4eb0605",
   "metadata": {},
   "source": [
    "__Update__ \n",
    "\n",
    "Para fazer update em algum valor, é necessário usar _replace()_. Porém, o replace não vai atualizar a instância original, tendo que ser substituída."
   ]
  },
  {
   "cell_type": "code",
   "execution_count": 13,
   "id": "d4dc41ec",
   "metadata": {},
   "outputs": [
    {
     "name": "stdout",
     "output_type": "stream",
     "text": [
      "Idade antiga 12\n",
      "Idade nova 20\n"
     ]
    }
   ],
   "source": [
    "from collections import namedtuple\n",
    "\n",
    "\n",
    "Usuario = namedtuple(\"Usuario\",'nome idade sexo')\n",
    "\n",
    "\n",
    "user = Usuario(\"felipe\",12,\"masculino\")\n",
    "print(f\"Idade antiga {user.idade}\")\n",
    "\n",
    "user = user._replace(idade=20)\n",
    "print(f\"Idade nova {user.idade}\")"
   ]
  },
  {
   "cell_type": "markdown",
   "id": "8e4dbf68",
   "metadata": {},
   "source": [
    "## List comprehension\n",
    "\n",
    "Forma mais Pythonica de fazer alguns loops, principalmente quando tem como objetivo criar listas, interando sobre coisas\n",
    "\n",
    "lista = [x for x in var] \n",
    "\n",
    "Pode-se também fazer algo envolvendo mais de uma variavel, com dois for\n",
    "\n",
    "lista = [(x,y) for x in var for y in var2]\n",
    "\n",
    "__IF Condicional__\n",
    "\n",
    "Para utilizar um if condicional, só fazer: \n",
    "\n",
    "[expr for item in lista if cond]\n",
    "\n",
    "Podendo colocar mais de um if cond sequenciado, só separado via espaço mesmo\n",
    "\n",
    "__IF + ELSE__\n",
    "\n",
    "resultado = ['1' if numero % 5 == 0 else '0' for numero in range(16)]\n",
    "\n",
    "Aqui notar que o if e esle vem primeiro que o loop e não depois como quando tiver apenas if\n",
    "\n"
   ]
  },
  {
   "cell_type": "code",
   "execution_count": 24,
   "id": "a90b7a60",
   "metadata": {},
   "outputs": [
    {
     "data": {
      "text/plain": [
       "[('azul', 1),\n",
       " ('azul', 2),\n",
       " ('azul', 3),\n",
       " ('azul', 4),\n",
       " ('preto', 1),\n",
       " ('preto', 2),\n",
       " ('preto', 3),\n",
       " ('preto', 4),\n",
       " ('branco', 1),\n",
       " ('branco', 2),\n",
       " ('branco', 3),\n",
       " ('branco', 4),\n",
       " ('vermelho', 1),\n",
       " ('vermelho', 2),\n",
       " ('vermelho', 3),\n",
       " ('vermelho', 4)]"
      ]
     },
     "execution_count": 24,
     "metadata": {},
     "output_type": "execute_result"
    }
   ],
   "source": [
    "\n",
    "var = [1,2,3,4]\n",
    "var1 = ['azul','preto','branco','vermelho']\n",
    "\n",
    "lista = [(x,y) for x in var1 for y in var]\n",
    "lista"
   ]
  },
  {
   "cell_type": "markdown",
   "id": "8ded3033",
   "metadata": {},
   "source": [
    "## Generator Expressions\n",
    "\n",
    "Funciona do mesmo jeito que Listcomp, porém List é apenas para listas, enquanto Generator serve para tuplas e etc. \n",
    "\n",
    "__Só trocar o [] por ()__\n"
   ]
  },
  {
   "cell_type": "code",
   "execution_count": 4,
   "id": "803cbcbf",
   "metadata": {},
   "outputs": [
    {
     "name": "stdout",
     "output_type": "stream",
     "text": [
      "('f', 'e', 'l', 'i', 'p', 'e')\n"
     ]
    }
   ],
   "source": [
    "var1 = \"felipe\"\n",
    "\n",
    "tupla = tuple(x for x in var1)\n",
    "print(tupla)\n",
    "\n"
   ]
  },
  {
   "cell_type": "markdown",
   "id": "6aad1649",
   "metadata": {},
   "source": [
    "## Tuplas\n",
    "\n",
    "Um dos melhores usos para tuplas é justamente como record de dados, seja num banco de dados ou etc\n",
    "\n",
    "Eles são imutáveis, e mantém sempre a mesma posição, além de ser mais legível usar DOT NOTATION.\n",
    "\n",
    "## Tuple Unpacking\n",
    "\n",
    "Uma das formas de fazer o unpacking, é simplesmente __assignamento paralelo__, onde você vai definir diversas variáveis para aquela tupla e ele vai desconstruir de acordo."
   ]
  },
  {
   "cell_type": "code",
   "execution_count": 6,
   "id": "4a9ebd19",
   "metadata": {},
   "outputs": [
    {
     "name": "stdout",
     "output_type": "stream",
     "text": [
      "1 2 3 4\n"
     ]
    }
   ],
   "source": [
    "tupla = (1,2,3,4)\n",
    "a,b,c,d = tupla\n",
    "print(a,b,c,d)\n"
   ]
  },
  {
   "cell_type": "markdown",
   "id": "ea141cff",
   "metadata": {},
   "source": [
    "### Dummy Variable\n",
    "\n",
    "Para quando você não quer toda a tupla, só alguma parte dela, ai você usa \"_\"\n",
    "\n",
    "Aqui temos um exemplo de como se fosse a nacionalidade e o passaporte fazendo __x,___ ele vai printar apenas o primeiro campo da tupla por meio do tuple unpacking.\n",
    "\n",
    "Você coloca os underline de acordo com a quantidade de variáveis na tupla.\n",
    "\n",
    "Pode ser usado com tuplas, listas e etc\n"
   ]
  },
  {
   "cell_type": "code",
   "execution_count": 15,
   "id": "e9fcb682",
   "metadata": {},
   "outputs": [
    {
     "name": "stdout",
     "output_type": "stream",
     "text": [
      "BR\n",
      "EUA\n",
      "\n",
      "BR\n",
      "EUA\n"
     ]
    }
   ],
   "source": [
    "tupla = [[\"BR\",\"1234\",'alo'],[\"EUA\",\"4321\",'teste']]\n",
    "\n",
    "for x,_,_ in tupla:\n",
    "    print(x)\n",
    "\n",
    "print()\n",
    "#correspodnente normal\n",
    "for y in tupla:\n",
    "    print(y[0])"
   ]
  },
  {
   "cell_type": "markdown",
   "id": "adbaf4a4",
   "metadata": {},
   "source": [
    "# Slicing\n",
    "\n",
    "Fora o slicing normal [start:stop] tem o [star:stop:step] que também funciona com strings.\n",
    "\n"
   ]
  },
  {
   "cell_type": "code",
   "execution_count": 16,
   "id": "911c8b55",
   "metadata": {},
   "outputs": [
    {
     "data": {
      "text/plain": [
       "'flp'"
      ]
     },
     "execution_count": 16,
     "metadata": {},
     "output_type": "execute_result"
    }
   ],
   "source": [
    "nome = \"felipe\"\n",
    "nome[::2]"
   ]
  },
  {
   "cell_type": "markdown",
   "id": "f471dc26",
   "metadata": {},
   "source": [
    "__NOME AOS SLICES__\n",
    "\n",
    "Podemos dar nome a um range de slice, para que assim fique mais legível os slices.\n",
    "\n",
    "Excelente para grandes entradas de strings que precisam de slicing\n",
    "\n",
    "Em vez de:\n",
    "\n",
    "item[0:6], item[6:10]\n",
    "\n",
    "Fazer:\n",
    "\n",
    "nome = slice(0,6) e desc = slice(6:10)\n",
    "item[nome] e item[desc]"
   ]
  },
  {
   "cell_type": "code",
   "execution_count": 19,
   "id": "bebe66de",
   "metadata": {},
   "outputs": [
    {
     "name": "stdout",
     "output_type": "stream",
     "text": [
      "felipe  ferreira\n"
     ]
    }
   ],
   "source": [
    "usuario = \"felipe ferreira\"\n",
    "nome = slice(0,6)\n",
    "sobrenome = slice(6,15)\n",
    "\n",
    "print(usuario[nome],usuario[sobrenome])\n"
   ]
  },
  {
   "cell_type": "markdown",
   "id": "256701fb",
   "metadata": {},
   "source": [
    "# Ordenação de Listas\n",
    "\n",
    "__List Sort__\n",
    "\n",
    "List.sort() e sorted() tem dois argumentos para sorting de uma lista que são bem interessantes:\n",
    "\n",
    "__reverse__ => Reverte a lista\n",
    "\n",
    "__key__ => Vai fazer o sorting de acordo com uma key, algumas opções sendo: __str.lower__ que vai ordernar com case sensitive, __len__ que vai ordenar pelo tamanho\n",
    "\n",
    "## Nem sempre listas serão a melhor forma de se implementar algo.\n",
    "\n",
    "-> Para guardar muitas coisas, uma array é melhor.\n",
    "\n",
    "> * Se for uma lista apenas númerica, usar Array em Python vai salvar memória e ser mais rápido. (from array import array). Também tem opções de salvar em arquivos de forma mais rápida.\n",
    "\n",
    "-> Para adicionar e remover itens constantemente, uma estrutura de dados com LIFO ou FIFO é melhor.\n",
    "\n",
    "-> Se tiver muita conferência de x in lista, é melhor usar um __set__ porque eles são otimizados para isso.\n",
    "\n"
   ]
  },
  {
   "cell_type": "markdown",
   "id": "60456130",
   "metadata": {},
   "source": [
    "## Dicionários ou Dict()\n",
    "\n",
    "Em comparação do namedtuple, uma das principais vantagens é que ele é __mutável__, além de poder crescer e diminuir (append e remove).\n",
    "\n",
    "Diferencia da lista por ser acessado via keys e não por indices\n",
    "\n",
    "\"usuario[\"nome\"]\" por exemplo.\n",
    "\n",
    "Estrutura de implementação:\n",
    "\n",
    "__dicionario = {key: value}__\n",
    "\n",
    "Pode-se usar o dict() em cima de uma tupla, por exemplo, para gerar também.\n"
   ]
  },
  {
   "cell_type": "code",
   "execution_count": 17,
   "id": "bb025622",
   "metadata": {},
   "outputs": [
    {
     "name": "stdout",
     "output_type": "stream",
     "text": [
      "10\n",
      "{'Felipe': 10, 'Emily': 15, 'Teste': 12}\n"
     ]
    },
    {
     "data": {
      "text/plain": [
       "{'Felipe': 10, 'Emily': 15, 'Taigo': 22}"
      ]
     },
     "execution_count": 17,
     "metadata": {},
     "output_type": "execute_result"
    }
   ],
   "source": [
    "# Dict com nome:idade\n",
    "usuarios = {\"Felipe\":10,\"Emily\":15,\"Teste\":12}\n",
    "#Retorna o value da key Felipe\n",
    "print(usuarios[\"Felipe\"])\n",
    "print(usuarios)\n",
    "\n",
    "#Append\n",
    "usuarios[\"Taigo\"] = 22\n",
    "usuarios\n",
    "\n",
    "#Remove\n",
    "del usuarios[\"Teste\"]\n",
    "usuarios"
   ]
  },
  {
   "cell_type": "markdown",
   "id": "12e7bf2b",
   "metadata": {},
   "source": [
    "__Alguns métodos__\n",
    "\n",
    "d.clear() => limpa um dicionario\n",
    "\n",
    "d.get(key) => retorna um value, interessante porque não vai retornar erro se não existir a key, como aconteceria com \"d[key]\"\n",
    "\n",
    "d.keys() => retorna as keys\n",
    "\n",
    "d.items() => retorna tuplas com os key-value\n",
    "\n",
    "d.values() => retorna os values\n",
    "\n",
    "d.pop(key) => pop (excluir) a key\n",
    "\n",
    "d.popitem() => remove o ultimo a ser adicionado e retorna ele como uma tupla \n",
    "\n",
    "d.update(obj) => vai juntar dois dicionarios, atualizando as keys correspodentes"
   ]
  },
  {
   "cell_type": "code",
   "execution_count": 23,
   "id": "1a8a7c0e",
   "metadata": {},
   "outputs": [
    {
     "name": "stdout",
     "output_type": "stream",
     "text": [
      "c 30\n"
     ]
    },
    {
     "data": {
      "text/plain": [
       "{'a': 123, 'b': 20}"
      ]
     },
     "execution_count": 23,
     "metadata": {},
     "output_type": "execute_result"
    }
   ],
   "source": [
    "d = {'a': 10, 'b': 20, 'c': 30}\n",
    "\n",
    "tupla = d.popitem()\n",
    "print(tupla[0],tupla[1])\n",
    "\n",
    "d\n",
    "d1 = {'a':123}\n",
    "d.update(d1)\n",
    "d"
   ]
  },
  {
   "cell_type": "markdown",
   "id": "3ee6b286",
   "metadata": {},
   "source": [
    "### Dict Comprehension\n",
    "\n",
    "Funciona da mesma forma que listcomp"
   ]
  },
  {
   "cell_type": "code",
   "execution_count": 9,
   "id": "814909a2",
   "metadata": {},
   "outputs": [
    {
     "data": {
      "text/plain": [
       "{1: 'felipe', 2: 'emily', 3: 'taigo'}"
      ]
     },
     "execution_count": 9,
     "metadata": {},
     "output_type": "execute_result"
    }
   ],
   "source": [
    "listaAlunos = [(1,'felipe'),(2,'emily'),(3,'taigo')]\n",
    "\n",
    "dictAlunos = {codigo: nome for codigo,nome in listaAlunos}\n",
    "dictAlunos"
   ]
  },
  {
   "cell_type": "markdown",
   "id": "555f7ba9",
   "metadata": {},
   "source": [
    "## Sets\n",
    "\n",
    "Collection que não é ordenada, não pode ser mudada, mas pode ser adicioanda e removida. Ou seja, você não pode mudar um único item, mas pode removê-lo e adicionar um novo.\n",
    "\n",
    "* Por não serem ordenados, não podem ser referenciados por index ou keys.\n",
    "\n",
    "* __Valores duplicados são ignorados__.\n",
    "\n",
    "__Adição__\n",
    "\n",
    "Para adicionar um item unico, usa-se set.add(x)\n",
    "Para se adicionar vários valores, usa-se set.update(lista)\n",
    "\n",
    "__Remoção__\n",
    "\n",
    "Pode fazer a remoção de um valor específico pelo valor e não pela sua posição.\n",
    "\n",
    "Pode usar discard(valor) que não retorna erro, e remove(valor) que retorna erro se não tiver aquele valorali."
   ]
  },
  {
   "cell_type": "code",
   "execution_count": 20,
   "id": "ebaeb951",
   "metadata": {},
   "outputs": [
    {
     "name": "stdout",
     "output_type": "stream",
     "text": [
      "{'2', '1', '3'}\n",
      "{'5', '2', '1'}\n"
     ]
    }
   ],
   "source": [
    "setTeste = {\"1\",\"2\",\"3\",\"3\"}\n",
    "print(setTeste)\n",
    "\n",
    "setTeste.add(\"5\")\n",
    "setTeste.remove(\"3\")\n",
    "print(setTeste)"
   ]
  },
  {
   "cell_type": "markdown",
   "id": "baf68452",
   "metadata": {},
   "source": [
    "## Uso do Sets como Conjuntos\n",
    "\n",
    "Um dos pontos mais interessantes dos sets, é poder usar eles como se fossem conjuntos, com fáceis operações de __union, intersect, difference__\n",
    "\n",
    "* Union: Operador A | B ou funçao A.union(B)\n",
    "* Intersect: Operador A & B ou função A.intersection(B)\n",
    "* Difference: Operador A-B ou função A.difference(B)\n",
    "* Symmetric Difference, está em ambos mas não está na intersecção: Operador A^B ou A.symmetric_difference(B)\n",
    "\n",
    "Terão outras funções como subsect, pop, superset e etc. "
   ]
  },
  {
   "cell_type": "code",
   "execution_count": 23,
   "id": "0d3abd55",
   "metadata": {},
   "outputs": [
    {
     "name": "stdout",
     "output_type": "stream",
     "text": [
      "{'eduardo', 'teste', 'felipe', 'taigo', 'emily'}\n",
      "{'felipe'}\n",
      "{'taigo', 'emily'}\n"
     ]
    }
   ],
   "source": [
    "setA = {\"felipe\",\"taigo\",\"emily\"}\n",
    "setB = {\"felipe\",\"eduardo\",\"teste\"}\n",
    "\n",
    "print(setA | setB)\n",
    "print(setA & setB)\n",
    "print(setA-setB)\n",
    "\n"
   ]
  },
  {
   "cell_type": "markdown",
   "id": "1662b84a",
   "metadata": {},
   "source": [
    "# Lambda Functions\n",
    "\n",
    "Funções anonimas, sem nome, sem chamada e etc que são feitas apenas com uma única expressão, ou seja, apenas \"uma\" operação será feita ali, podendo ser uma chamada de função.\n",
    "\n",
    "Basicamente é uma função onde você não vai precisar definir normal igual uma função. Boa para fins rápidos"
   ]
  },
  {
   "cell_type": "code",
   "execution_count": 4,
   "id": "376330a1",
   "metadata": {},
   "outputs": [
    {
     "name": "stdout",
     "output_type": "stream",
     "text": [
      "4\n",
      "30\n"
     ]
    }
   ],
   "source": [
    "x = lambda num : num*2\n",
    "\n",
    "print(x(2))\n",
    "\n",
    "def multiplier(n):\n",
    "    return lambda numero: numero*n\n",
    "\n",
    "triplicar = multiplier(3)\n",
    "\n",
    "print(triplicar(10))"
   ]
  },
  {
   "cell_type": "markdown",
   "id": "2cd7e18c",
   "metadata": {},
   "source": [
    "# Else fora do IF - \"then\"\n",
    "\n",
    "É possível utilizar o else em outros statements como for, while e try.\n",
    "\n",
    "O else nesses casos pode ser lido como um \"then\". No sentido de que o algoritmo irá fazer isso, então depois irá fazer isso, e não como um \"se não\" como no IF.\n",
    "\n",
    "__For__\n",
    "\n",
    "> O else será acionado quando o for completar o loop, ou seja, não tiver um break.\n",
    "\n",
    "__while__\n",
    "\n",
    "> O else será acionado quando a condição do loop é atingida, e não quando tiver um break\n",
    "\n",
    "__try__\n",
    "\n",
    "> O else será acionado apenas se não tiver exceptions no Try.\n",
    "\n",
    "Aqui é importante para separar o que pode gerar Exception e o que não irá gerar exception.\n",
    "\n",
    "__Em todos os casos, se tiver um return, break, continue, o else NÃO será rodado.__\n",
    "\n",
    "\n",
    "\n"
   ]
  },
  {
   "cell_type": "markdown",
   "id": "a947d43f",
   "metadata": {},
   "source": [
    "### Uso ideal do try statement\n",
    "\n",
    "No código abaixo, podemos ver o uso ideal do try. Em vez de rodar todo o código dentro do try, rodamos apenas o que pode gerar erro. Como o else irá rodar se não tiver nenhum erro, então colocamos o resto do código que não irá gerar erro dentro do else.\n"
   ]
  },
  {
   "cell_type": "code",
   "execution_count": 7,
   "id": "adf80e64",
   "metadata": {},
   "outputs": [],
   "source": [
    "def geraErro():\n",
    "    pass\n",
    "\n",
    "def restoFuncao():\n",
    "    pass\n",
    "\n",
    "try:\n",
    "    geraErro()\n",
    "except:\n",
    "    print(\"erro\")\n",
    "else:\n",
    "    restoFuncao()\n",
    "    "
   ]
  },
  {
   "cell_type": "markdown",
   "id": "19cac03f",
   "metadata": {},
   "source": [
    "# Dataclasses\n",
    "\n",
    "São classes que funcionam para guardar dados (data). É uma implementação melhor do que tuplas ou dicionários pelo fato de usar DOT notation, além de ter uma representação mais legível, por meio da implementação de __repr__\n",
    "\n",
    "Diferente de namedtuple, ela é uma classe e mutável, de modo que você pode mudar os valores.\n",
    "\n",
    "Também é possível adicionar métodos como qualquer outra classe.\n",
    "\n",
    "É possível também comparar duas dataclasses, de modo a comparar os seus valores para verem se são iguais, por meio da implementação de __eq__, de modo que é só passar \"var1 == var2\""
   ]
  },
  {
   "cell_type": "code",
   "execution_count": 7,
   "id": "a02d4d42",
   "metadata": {},
   "outputs": [
    {
     "name": "stdout",
     "output_type": "stream",
     "text": [
      "segunda 20\n",
      "DiaDaSemana(dia='segunda', num='20')\n",
      "True\n"
     ]
    }
   ],
   "source": [
    "from dataclasses import dataclass\n",
    "\n",
    "@dataclass\n",
    "class DiaDaSemana:\n",
    "    dia: str\n",
    "    num: int\n",
    "\n",
    "diaPagamento = DiaDaSemana(\"segunda\",\"20\")\n",
    "print(diaPagamento.dia,diaPagamento.num)\n",
    "\n",
    "print(diaPagamento)\n",
    "\n",
    "\n",
    "diaSalario = DiaDaSemana(\"segunda\",\"20\")\n",
    "\n",
    "print(diaSalario == diaPagamento)\n"
   ]
  },
  {
   "cell_type": "markdown",
   "id": "29f88f0e",
   "metadata": {},
   "source": [
    "**Default Values**\n",
    "\n",
    "Para utilizar valores padrões, temos:"
   ]
  },
  {
   "cell_type": "code",
   "execution_count": 6,
   "id": "b052db8b",
   "metadata": {},
   "outputs": [
    {
     "data": {
      "text/plain": [
       "'padrao'"
      ]
     },
     "execution_count": 6,
     "metadata": {},
     "output_type": "execute_result"
    }
   ],
   "source": [
    "from dataclasses import dataclass\n",
    "\n",
    "@dataclass\n",
    "class DiaDaSemana:\n",
    "    dia: str = \"padrao\"\n",
    "    num: int = \"0\"\n",
    "        \n",
    "diaPg = DiaDaSemana()\n",
    "diaPg.dia"
   ]
  },
  {
   "cell_type": "markdown",
   "id": "66027878",
   "metadata": {},
   "source": [
    "# Default Attributes \n",
    "\n",
    "Atributos default de classes como __repr__, __str__, no estilo lá justamente do toString() em java\n",
    "\n",
    "* str => Printar as coisas da classe de forma mais bonita\n",
    "* repr => Printar o objeto da classe de forma mais legível e não só apenas o local na memória\n"
   ]
  },
  {
   "cell_type": "code",
   "execution_count": 16,
   "id": "3ec2e916",
   "metadata": {},
   "outputs": [
    {
     "name": "stdout",
     "output_type": "stream",
     "text": [
      "O nome é:felipe, a idade é 12\n"
     ]
    },
    {
     "data": {
      "text/plain": [
       "Teste(felipe,12)"
      ]
     },
     "execution_count": 16,
     "metadata": {},
     "output_type": "execute_result"
    }
   ],
   "source": [
    "class Teste:\n",
    "    \n",
    "    def __init__(self,nome,idade):\n",
    "        self.nome = nome\n",
    "        self.idade = idade\n",
    "        \n",
    "    def __str__(self):\n",
    "        return f\"O nome é:{self.nome}, a idade é {self.idade}\"\n",
    "\n",
    "    def __repr__(self):\n",
    "        return f\"Teste({self.nome},{self.idade})\"\n",
    "    \n",
    "\n",
    "variavel = Teste(\"felipe\",'12')\n",
    "\n",
    "print(variavel)\n",
    "variavel"
   ]
  },
  {
   "cell_type": "markdown",
   "id": "4e9db638",
   "metadata": {},
   "source": [
    "Vamos dizer que você tenha como atributo uma lista e queira iterar sobre ela sem precisar fazer o getAtributo(). Temos algumas opções:\n",
    "\n",
    "* len => Retorna tamanho\n",
    "* getitem => Retorna os itens \n",
    "\n",
    "Nesses dois você tem que definir o que isso vai fazer"
   ]
  },
  {
   "cell_type": "code",
   "execution_count": 21,
   "id": "c74fd68d",
   "metadata": {},
   "outputs": [
    {
     "name": "stdout",
     "output_type": "stream",
     "text": [
      "10 15\n",
      "10\n",
      "15\n"
     ]
    }
   ],
   "source": [
    "class Teste:\n",
    "    \n",
    "    def __init__(self,nome):\n",
    "        self.nome = nome\n",
    "        self.depositos = []\n",
    "        \n",
    "    def addDep(self,valor):\n",
    "        self.depositos.append(valor)\n",
    "    \n",
    "    def __getitem__(self,posicao):\n",
    "        return self.depositos[posicao]\n",
    "    \n",
    "    def __len__(self):\n",
    "        return len(self.depositos)\n",
    "    \n",
    "var = Teste(\"felipe\")\n",
    "var.addDep(10)\n",
    "var.addDep(15)\n",
    "\n",
    "print(var[0],var[1])\n",
    "\n",
    "# Iterar diretamente com um for\n",
    "for x in var:\n",
    "    print(x)"
   ]
  },
  {
   "cell_type": "code",
   "execution_count": 24,
   "id": "589a5613",
   "metadata": {},
   "outputs": [
    {
     "data": {
      "text/plain": [
       "'felipe'"
      ]
     },
     "execution_count": 24,
     "metadata": {},
     "output_type": "execute_result"
    }
   ],
   "source": [
    "class Teste:\n",
    "    \n",
    "    def __init__(self,nome):\n",
    "        self.nome = nome\n",
    "        self.depositos = []\n",
    "        \n",
    "    def __getattribute__(self,item):\n",
    "        return super(Teste,self).__getattribute__(item)\n",
    "    \n",
    "novo = Teste(\"felipe\")\n",
    "novo.nome"
   ]
  },
  {
   "cell_type": "markdown",
   "id": "2aba249f",
   "metadata": {},
   "source": [
    "### Outras implementações\n",
    "\n",
    "Da pra implementar também operações de soma, subtração e etc.\n",
    "\n",
    "Também é possível implementar o contains, deletar, essas operações basicas, sem ter que ficar iterando em cima de um get."
   ]
  }
 ],
 "metadata": {
  "kernelspec": {
   "display_name": "Python 3 (ipykernel)",
   "language": "python",
   "name": "python3"
  },
  "language_info": {
   "codemirror_mode": {
    "name": "ipython",
    "version": 3
   },
   "file_extension": ".py",
   "mimetype": "text/x-python",
   "name": "python",
   "nbconvert_exporter": "python",
   "pygments_lexer": "ipython3",
   "version": "3.8.10"
  }
 },
 "nbformat": 4,
 "nbformat_minor": 5
}
